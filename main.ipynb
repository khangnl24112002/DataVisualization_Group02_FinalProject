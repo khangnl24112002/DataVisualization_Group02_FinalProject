{
 "cells": [
  {
   "attachments": {},
   "cell_type": "markdown",
   "metadata": {},
   "source": [
    "## Data Visualization: Vietnam weather data Dataset\n",
    "\n",
    "### Thu thập dữ liệu\n",
    "\n",
    " - Ngữ cảnh sử dụng bộ dataset này\n",
    "    - Nghiên cứu khí hậu: Bộ dữ liệu này cung cấp thông tin về thời tiết trong suốt hơn 12 năm tại 40 tỉnh thành Việt Nam. Điều này cho phép nhà nghiên cứu và các nhà khoa học khí hậu phân tích và hiểu sâu về các xu hướng, biến đổi và mô hình hóa khí hậu trong khu vực này. Bạn có thể tìm hiểu về mô phỏng biến đổi khí hậu, hiệu ứng của biến đổi khí hậu lên các yếu tố khác nhau như nông nghiệp, môi trường, hay nguồn nước.\n",
    "\n",
    "    - Dự báo thời tiết: Bộ dữ liệu này có thể được sử dụng để phát triển mô hình dự báo thời tiết. Bằng cách phân tích dữ liệu lịch sử và xây dựng mô hình dự báo, bạn có thể cung cấp dự báo thời tiết cho các tỉnh thành Việt Nam trong tương lai gần hoặc xa. Điều này hữu ích cho các công ty, tổ chức hoặc cá nhân quan tâm đến dự báo thời tiết để lập kế hoạch hoạt động, điều hành hoặc tối ưu hóa các hoạt động hàng ngày.\n",
    "\n",
    "    - Phân tích địa lý: Với bộ dữ liệu này, bạn có thể nghiên cứu tương quan giữa khí hậu và địa lý. Bạn có thể phân tích tác động của vị trí địa lý, địa hình, hoặc các yếu tố tự nhiên khác đến thời tiết của một khu vực cụ thể. Điều này có thể hữu ích trong việc đánh giá tác động của sự biến đổi khí hậu lên một khu vực địa lý cụ thể hoặc hiểu rõ hơn về các đặc điểm địa lý ảnh hưởng đến khí hậu trong khu vực.\n",
    "\n",
    "    - Ứng dụng công nghệ: Bộ dữ liệu thời tiết cũng có thể được sử dụng để phát triển các ứng dụng công nghệ liên quan đến thời tiết, chẳng hạn như các ứng dụng di động, trang web dự báo thời tiết, hoặc hệ thống cảnh báo thời tiết. Với thông tin chi tiết về thời tiết trong quá khứ, bạn có thể cải thiện tính chính xác của các ứng dụng này và cung cấp thông tin hữu ích cho người dùng.\n",
    "\n",
    "    - Giáo dục và tìm hiểu: Bộ dữ liệu này cung cấp một nguồn tài liệu phong phú để giáo dục và tìm hiểu về khí hậu và thời tiết của Việt Nam. Sinh viên, học sinh, hoặc những người quan tâm có thể sử dụng nó để nghiên cứu, viết bài luận, hoặc đào sâu vào lĩnh vực này.\n",
    "\n",
    "- Chủ đề và nguồn của bộ dữ liệu này: Bộ dữ liệu về thời tiết của Việt Nam từ ngày 1 tháng 1 năm 2009 đến ngày 18 tháng 6 năm 2021 cho 40 tỉnh thành. Bộ dữ liệu này được đăng lên Kaggle bởi **VĂN VIẾT HIẾU ANH** và được chia sẻ trên Kaggle cho mục đích học tập và nghiên cứu. \n",
    "- License: **CC0: Public Domain**\n",
    "- Phương pháp thu thập: Quan sát "
   ]
  },
  {
   "attachments": {},
   "cell_type": "markdown",
   "metadata": {},
   "source": [
    "### Import thư viện"
   ]
  },
  {
   "cell_type": "code",
   "execution_count": 1,
   "metadata": {},
   "outputs": [],
   "source": [
    "# Pandas, Numpy dùng để xử lí các table và number\n",
    "import pandas as pd\n",
    "import numpy as np\n",
    "# Matplotlib: dùng để trực quan hóa dữ liệu\n",
    "# Seaborn: dùng để trực quan hóa dữ liệu\n",
    "import matplotlib.pyplot as plt\n",
    "import seaborn as sns\n",
    "# plotly: dùng để trực quan hóa, tuy nhiên người dùng còn có thể tương tác trực tiếp với biểu đồ\n",
    "import plotly.express as px\n",
    "import plotly.graph_objects as go"
   ]
  },
  {
   "attachments": {},
   "cell_type": "markdown",
   "metadata": {},
   "source": [
    "## Đọc dữ liệu từ file csv"
   ]
  },
  {
   "cell_type": "code",
   "execution_count": 2,
   "metadata": {},
   "outputs": [],
   "source": [
    "df = pd.read_csv(\"./weather.csv\",encoding = \"ISO-8859-1\")"
   ]
  },
  {
   "attachments": {},
   "cell_type": "markdown",
   "metadata": {},
   "source": [
    "### Tiền xử lý dữ liệu \n",
    "#### In 5 dòng đầu tiên"
   ]
  },
  {
   "cell_type": "code",
   "execution_count": 3,
   "metadata": {},
   "outputs": [
    {
     "data": {
      "text/html": [
       "<div>\n",
       "<style scoped>\n",
       "    .dataframe tbody tr th:only-of-type {\n",
       "        vertical-align: middle;\n",
       "    }\n",
       "\n",
       "    .dataframe tbody tr th {\n",
       "        vertical-align: top;\n",
       "    }\n",
       "\n",
       "    .dataframe thead th {\n",
       "        text-align: right;\n",
       "    }\n",
       "</style>\n",
       "<table border=\"1\" class=\"dataframe\">\n",
       "  <thead>\n",
       "    <tr style=\"text-align: right;\">\n",
       "      <th></th>\n",
       "      <th>province</th>\n",
       "      <th>max</th>\n",
       "      <th>min</th>\n",
       "      <th>wind</th>\n",
       "      <th>wind_d</th>\n",
       "      <th>rain</th>\n",
       "      <th>humidi</th>\n",
       "      <th>cloud</th>\n",
       "      <th>pressure</th>\n",
       "      <th>date</th>\n",
       "    </tr>\n",
       "  </thead>\n",
       "  <tbody>\n",
       "    <tr>\n",
       "      <th>0</th>\n",
       "      <td>Bac Lieu</td>\n",
       "      <td>27</td>\n",
       "      <td>22</td>\n",
       "      <td>17</td>\n",
       "      <td>NNE</td>\n",
       "      <td>6.9</td>\n",
       "      <td>90</td>\n",
       "      <td>71</td>\n",
       "      <td>1010</td>\n",
       "      <td>2009-01-01</td>\n",
       "    </tr>\n",
       "    <tr>\n",
       "      <th>1</th>\n",
       "      <td>Bac Lieu</td>\n",
       "      <td>31</td>\n",
       "      <td>25</td>\n",
       "      <td>20</td>\n",
       "      <td>ENE</td>\n",
       "      <td>0.0</td>\n",
       "      <td>64</td>\n",
       "      <td>24</td>\n",
       "      <td>1010</td>\n",
       "      <td>2010-01-01</td>\n",
       "    </tr>\n",
       "    <tr>\n",
       "      <th>2</th>\n",
       "      <td>Bac Lieu</td>\n",
       "      <td>29</td>\n",
       "      <td>24</td>\n",
       "      <td>14</td>\n",
       "      <td>E</td>\n",
       "      <td>0.0</td>\n",
       "      <td>75</td>\n",
       "      <td>45</td>\n",
       "      <td>1008</td>\n",
       "      <td>2011-01-01</td>\n",
       "    </tr>\n",
       "    <tr>\n",
       "      <th>3</th>\n",
       "      <td>Bac Lieu</td>\n",
       "      <td>30</td>\n",
       "      <td>24</td>\n",
       "      <td>30</td>\n",
       "      <td>E</td>\n",
       "      <td>0.0</td>\n",
       "      <td>79</td>\n",
       "      <td>52</td>\n",
       "      <td>1012</td>\n",
       "      <td>2012-01-01</td>\n",
       "    </tr>\n",
       "    <tr>\n",
       "      <th>4</th>\n",
       "      <td>Bac Lieu</td>\n",
       "      <td>31</td>\n",
       "      <td>25</td>\n",
       "      <td>20</td>\n",
       "      <td>ENE</td>\n",
       "      <td>0.0</td>\n",
       "      <td>70</td>\n",
       "      <td>24</td>\n",
       "      <td>1010</td>\n",
       "      <td>2013-01-01</td>\n",
       "    </tr>\n",
       "  </tbody>\n",
       "</table>\n",
       "</div>"
      ],
      "text/plain": [
       "   province  max  min  wind wind_d  rain  humidi  cloud  pressure        date\n",
       "0  Bac Lieu   27   22    17    NNE   6.9      90     71      1010  2009-01-01\n",
       "1  Bac Lieu   31   25    20    ENE   0.0      64     24      1010  2010-01-01\n",
       "2  Bac Lieu   29   24    14      E   0.0      75     45      1008  2011-01-01\n",
       "3  Bac Lieu   30   24    30      E   0.0      79     52      1012  2012-01-01\n",
       "4  Bac Lieu   31   25    20    ENE   0.0      70     24      1010  2013-01-01"
      ]
     },
     "execution_count": 3,
     "metadata": {},
     "output_type": "execute_result"
    }
   ],
   "source": [
    "df.head()"
   ]
  },
  {
   "attachments": {},
   "cell_type": "markdown",
   "metadata": {},
   "source": [
    "#### Thông tin số dòng và số cột"
   ]
  },
  {
   "cell_type": "code",
   "execution_count": 4,
   "metadata": {},
   "outputs": [
    {
     "data": {
      "text/plain": [
       "(181960, 10)"
      ]
     },
     "execution_count": 4,
     "metadata": {},
     "output_type": "execute_result"
    }
   ],
   "source": [
    "df.shape"
   ]
  },
  {
   "attachments": {},
   "cell_type": "markdown",
   "metadata": {},
   "source": [
    "#### Thông tin cột"
   ]
  },
  {
   "cell_type": "code",
   "execution_count": 5,
   "metadata": {},
   "outputs": [
    {
     "data": {
      "text/plain": [
       "Index(['province', 'max', 'min', 'wind', 'wind_d', 'rain', 'humidi', 'cloud',\n",
       "       'pressure', 'date'],\n",
       "      dtype='object')"
      ]
     },
     "execution_count": 5,
     "metadata": {},
     "output_type": "execute_result"
    }
   ],
   "source": [
    "df.columns"
   ]
  },
  {
   "attachments": {},
   "cell_type": "markdown",
   "metadata": {},
   "source": [
    " - Cột `province` là các tỉnh thành\n",
    " - Cột `max` là nhiệt độ tối đa của ngày \n",
    " - Cột `min` là nhiệt độ tối thiểu của ngày \n",
    " - Cột `wind` là tốc độ gió (km/h) \n",
    " - Cột `wind_d` là huống gió \n",
    " - Cột `rain` là lượng mưa \n",
    " - Cột `humidi` là % độ ẩm \n",
    " - Cột `cloud` là % gió\n",
    " - Cột `pressure` là áp suất\n",
    " - Cột `date` là ngày thu thập dữ liệu"
   ]
  },
  {
   "attachments": {},
   "cell_type": "markdown",
   "metadata": {},
   "source": [
    "#### Kiểu dữ liệu của từng cột"
   ]
  },
  {
   "cell_type": "code",
   "execution_count": 6,
   "metadata": {},
   "outputs": [
    {
     "data": {
      "text/plain": [
       "province     object\n",
       "max           int64\n",
       "min           int64\n",
       "wind          int64\n",
       "wind_d       object\n",
       "rain        float64\n",
       "humidi        int64\n",
       "cloud         int64\n",
       "pressure      int64\n",
       "date         object\n",
       "dtype: object"
      ]
     },
     "execution_count": 6,
     "metadata": {},
     "output_type": "execute_result"
    }
   ],
   "source": [
    "df.dtypes"
   ]
  },
  {
   "attachments": {},
   "cell_type": "markdown",
   "metadata": {},
   "source": [
    " - Dữ liệu của các cột `max`, `min`, `wind`, `humidi`, `cloud`, `pressure` là kiểu số nguyên \n",
    " - Dữ liệu của các cột `rain` là kiểu số thực \n",
    " - Các dữ liệu ở các cột còn lại thuộc kiểu non-numeric"
   ]
  },
  {
   "attachments": {},
   "cell_type": "markdown",
   "metadata": {},
   "source": [
    "#### Số giá trị null của từng cột"
   ]
  },
  {
   "cell_type": "code",
   "execution_count": 7,
   "metadata": {},
   "outputs": [
    {
     "data": {
      "text/plain": [
       "province    0\n",
       "max         0\n",
       "min         0\n",
       "wind        0\n",
       "wind_d      0\n",
       "rain        0\n",
       "humidi      0\n",
       "cloud       0\n",
       "pressure    0\n",
       "date        0\n",
       "dtype: int64"
      ]
     },
     "execution_count": 7,
     "metadata": {},
     "output_type": "execute_result"
    }
   ],
   "source": [
    "df.isnull().sum()"
   ]
  },
  {
   "attachments": {},
   "cell_type": "markdown",
   "metadata": {},
   "source": [
    "Ta thấy không có giá trị null trong dataframe"
   ]
  },
  {
   "attachments": {},
   "cell_type": "markdown",
   "metadata": {},
   "source": [
    "### Chuyển về kiểu dữ liệu datetime"
   ]
  },
  {
   "attachments": {},
   "cell_type": "markdown",
   "metadata": {},
   "source": [
    "Áp dụng cho cột `date` "
   ]
  },
  {
   "cell_type": "code",
   "execution_count": 8,
   "metadata": {},
   "outputs": [],
   "source": [
    "df[\"date\"] = pd.to_datetime(df[\"date\"])\n"
   ]
  },
  {
   "attachments": {},
   "cell_type": "markdown",
   "metadata": {},
   "source": [
    "Kiểu tra kiểu dữ liệu"
   ]
  },
  {
   "cell_type": "code",
   "execution_count": 9,
   "metadata": {},
   "outputs": [
    {
     "data": {
      "text/plain": [
       "province            object\n",
       "max                  int64\n",
       "min                  int64\n",
       "wind                 int64\n",
       "wind_d              object\n",
       "rain               float64\n",
       "humidi               int64\n",
       "cloud                int64\n",
       "pressure             int64\n",
       "date        datetime64[ns]\n",
       "dtype: object"
      ]
     },
     "execution_count": 9,
     "metadata": {},
     "output_type": "execute_result"
    }
   ],
   "source": [
    "df.dtypes"
   ]
  },
  {
   "attachments": {},
   "cell_type": "markdown",
   "metadata": {},
   "source": [
    "Cách trích xuất thông tin từ dữ liệu datetime"
   ]
  },
  {
   "cell_type": "code",
   "execution_count": 11,
   "metadata": {},
   "outputs": [
    {
     "data": {
      "text/plain": [
       "0          1\n",
       "1          1\n",
       "2          1\n",
       "3          1\n",
       "4          1\n",
       "          ..\n",
       "181955    28\n",
       "181956    28\n",
       "181957    28\n",
       "181958    28\n",
       "181959    28\n",
       "Name: date, Length: 181960, dtype: int64"
      ]
     },
     "execution_count": 11,
     "metadata": {},
     "output_type": "execute_result"
    }
   ],
   "source": [
    "df['date'].dt.day"
   ]
  },
  {
   "attachments": {},
   "cell_type": "markdown",
   "metadata": {},
   "source": [
    "#### Kiểm tra các dòng bị trùng lặp"
   ]
  },
  {
   "cell_type": "code",
   "execution_count": 12,
   "metadata": {},
   "outputs": [
    {
     "data": {
      "text/plain": [
       "0"
      ]
     },
     "execution_count": 12,
     "metadata": {},
     "output_type": "execute_result"
    }
   ],
   "source": [
    "df.duplicated().sum()"
   ]
  },
  {
   "attachments": {},
   "cell_type": "markdown",
   "metadata": {},
   "source": [
    "Không có dòng nào mà dữ liệu bị lặp"
   ]
  },
  {
   "cell_type": "code",
   "execution_count": 13,
   "metadata": {},
   "outputs": [
    {
     "data": {
      "text/html": [
       "<div>\n",
       "<style scoped>\n",
       "    .dataframe tbody tr th:only-of-type {\n",
       "        vertical-align: middle;\n",
       "    }\n",
       "\n",
       "    .dataframe tbody tr th {\n",
       "        vertical-align: top;\n",
       "    }\n",
       "\n",
       "    .dataframe thead th {\n",
       "        text-align: right;\n",
       "    }\n",
       "</style>\n",
       "<table border=\"1\" class=\"dataframe\">\n",
       "  <thead>\n",
       "    <tr style=\"text-align: right;\">\n",
       "      <th></th>\n",
       "      <th>province</th>\n",
       "      <th>max</th>\n",
       "      <th>min</th>\n",
       "      <th>wind</th>\n",
       "      <th>wind_d</th>\n",
       "      <th>rain</th>\n",
       "      <th>humidi</th>\n",
       "      <th>cloud</th>\n",
       "      <th>pressure</th>\n",
       "      <th>date</th>\n",
       "    </tr>\n",
       "  </thead>\n",
       "  <tbody>\n",
       "    <tr>\n",
       "      <th>0</th>\n",
       "      <td>Bac Lieu</td>\n",
       "      <td>27</td>\n",
       "      <td>22</td>\n",
       "      <td>17</td>\n",
       "      <td>NNE</td>\n",
       "      <td>6.9</td>\n",
       "      <td>90</td>\n",
       "      <td>71</td>\n",
       "      <td>1010</td>\n",
       "      <td>2009-01-01</td>\n",
       "    </tr>\n",
       "    <tr>\n",
       "      <th>1</th>\n",
       "      <td>Bac Lieu</td>\n",
       "      <td>31</td>\n",
       "      <td>25</td>\n",
       "      <td>20</td>\n",
       "      <td>ENE</td>\n",
       "      <td>0.0</td>\n",
       "      <td>64</td>\n",
       "      <td>24</td>\n",
       "      <td>1010</td>\n",
       "      <td>2010-01-01</td>\n",
       "    </tr>\n",
       "    <tr>\n",
       "      <th>2</th>\n",
       "      <td>Bac Lieu</td>\n",
       "      <td>29</td>\n",
       "      <td>24</td>\n",
       "      <td>14</td>\n",
       "      <td>E</td>\n",
       "      <td>0.0</td>\n",
       "      <td>75</td>\n",
       "      <td>45</td>\n",
       "      <td>1008</td>\n",
       "      <td>2011-01-01</td>\n",
       "    </tr>\n",
       "    <tr>\n",
       "      <th>3</th>\n",
       "      <td>Bac Lieu</td>\n",
       "      <td>30</td>\n",
       "      <td>24</td>\n",
       "      <td>30</td>\n",
       "      <td>E</td>\n",
       "      <td>0.0</td>\n",
       "      <td>79</td>\n",
       "      <td>52</td>\n",
       "      <td>1012</td>\n",
       "      <td>2012-01-01</td>\n",
       "    </tr>\n",
       "    <tr>\n",
       "      <th>4</th>\n",
       "      <td>Bac Lieu</td>\n",
       "      <td>31</td>\n",
       "      <td>25</td>\n",
       "      <td>20</td>\n",
       "      <td>ENE</td>\n",
       "      <td>0.0</td>\n",
       "      <td>70</td>\n",
       "      <td>24</td>\n",
       "      <td>1010</td>\n",
       "      <td>2013-01-01</td>\n",
       "    </tr>\n",
       "  </tbody>\n",
       "</table>\n",
       "</div>"
      ],
      "text/plain": [
       "   province  max  min  wind wind_d  rain  humidi  cloud  pressure       date\n",
       "0  Bac Lieu   27   22    17    NNE   6.9      90     71      1010 2009-01-01\n",
       "1  Bac Lieu   31   25    20    ENE   0.0      64     24      1010 2010-01-01\n",
       "2  Bac Lieu   29   24    14      E   0.0      75     45      1008 2011-01-01\n",
       "3  Bac Lieu   30   24    30      E   0.0      79     52      1012 2012-01-01\n",
       "4  Bac Lieu   31   25    20    ENE   0.0      70     24      1010 2013-01-01"
      ]
     },
     "execution_count": 13,
     "metadata": {},
     "output_type": "execute_result"
    }
   ],
   "source": [
    "df.head()"
   ]
  },
  {
   "attachments": {},
   "cell_type": "markdown",
   "metadata": {},
   "source": [
    "#### Mô tả dữ liệu"
   ]
  },
  {
   "attachments": {},
   "cell_type": "markdown",
   "metadata": {},
   "source": [
    "Tìm hiểu các cột có dữ liệu numerical"
   ]
  },
  {
   "cell_type": "code",
   "execution_count": 14,
   "metadata": {},
   "outputs": [
    {
     "data": {
      "text/html": [
       "<div>\n",
       "<style scoped>\n",
       "    .dataframe tbody tr th:only-of-type {\n",
       "        vertical-align: middle;\n",
       "    }\n",
       "\n",
       "    .dataframe tbody tr th {\n",
       "        vertical-align: top;\n",
       "    }\n",
       "\n",
       "    .dataframe thead th {\n",
       "        text-align: right;\n",
       "    }\n",
       "</style>\n",
       "<table border=\"1\" class=\"dataframe\">\n",
       "  <thead>\n",
       "    <tr style=\"text-align: right;\">\n",
       "      <th></th>\n",
       "      <th>max</th>\n",
       "      <th>min</th>\n",
       "      <th>wind</th>\n",
       "      <th>rain</th>\n",
       "      <th>humidi</th>\n",
       "      <th>cloud</th>\n",
       "      <th>pressure</th>\n",
       "    </tr>\n",
       "  </thead>\n",
       "  <tbody>\n",
       "    <tr>\n",
       "      <th>count</th>\n",
       "      <td>181960.000000</td>\n",
       "      <td>181960.000000</td>\n",
       "      <td>181960.000000</td>\n",
       "      <td>181960.000000</td>\n",
       "      <td>181960.000000</td>\n",
       "      <td>181960.000000</td>\n",
       "      <td>181960.000000</td>\n",
       "    </tr>\n",
       "    <tr>\n",
       "      <th>mean</th>\n",
       "      <td>29.837277</td>\n",
       "      <td>23.277874</td>\n",
       "      <td>11.038657</td>\n",
       "      <td>6.567130</td>\n",
       "      <td>77.083068</td>\n",
       "      <td>41.721268</td>\n",
       "      <td>1010.229127</td>\n",
       "    </tr>\n",
       "    <tr>\n",
       "      <th>std</th>\n",
       "      <td>4.571345</td>\n",
       "      <td>3.945381</td>\n",
       "      <td>5.311807</td>\n",
       "      <td>13.602055</td>\n",
       "      <td>9.288553</td>\n",
       "      <td>23.875067</td>\n",
       "      <td>4.635714</td>\n",
       "    </tr>\n",
       "    <tr>\n",
       "      <th>min</th>\n",
       "      <td>4.000000</td>\n",
       "      <td>2.000000</td>\n",
       "      <td>1.000000</td>\n",
       "      <td>0.000000</td>\n",
       "      <td>23.000000</td>\n",
       "      <td>0.000000</td>\n",
       "      <td>988.000000</td>\n",
       "    </tr>\n",
       "    <tr>\n",
       "      <th>25%</th>\n",
       "      <td>28.000000</td>\n",
       "      <td>21.000000</td>\n",
       "      <td>7.000000</td>\n",
       "      <td>0.100000</td>\n",
       "      <td>71.000000</td>\n",
       "      <td>23.000000</td>\n",
       "      <td>1008.000000</td>\n",
       "    </tr>\n",
       "    <tr>\n",
       "      <th>50%</th>\n",
       "      <td>31.000000</td>\n",
       "      <td>24.000000</td>\n",
       "      <td>10.000000</td>\n",
       "      <td>1.800000</td>\n",
       "      <td>78.000000</td>\n",
       "      <td>38.000000</td>\n",
       "      <td>1010.000000</td>\n",
       "    </tr>\n",
       "    <tr>\n",
       "      <th>75%</th>\n",
       "      <td>33.000000</td>\n",
       "      <td>26.000000</td>\n",
       "      <td>14.000000</td>\n",
       "      <td>7.500000</td>\n",
       "      <td>83.000000</td>\n",
       "      <td>58.000000</td>\n",
       "      <td>1012.000000</td>\n",
       "    </tr>\n",
       "    <tr>\n",
       "      <th>max</th>\n",
       "      <td>46.000000</td>\n",
       "      <td>32.000000</td>\n",
       "      <td>54.000000</td>\n",
       "      <td>596.400000</td>\n",
       "      <td>100.000000</td>\n",
       "      <td>100.000000</td>\n",
       "      <td>1038.000000</td>\n",
       "    </tr>\n",
       "  </tbody>\n",
       "</table>\n",
       "</div>"
      ],
      "text/plain": [
       "                 max            min           wind           rain  \\\n",
       "count  181960.000000  181960.000000  181960.000000  181960.000000   \n",
       "mean       29.837277      23.277874      11.038657       6.567130   \n",
       "std         4.571345       3.945381       5.311807      13.602055   \n",
       "min         4.000000       2.000000       1.000000       0.000000   \n",
       "25%        28.000000      21.000000       7.000000       0.100000   \n",
       "50%        31.000000      24.000000      10.000000       1.800000   \n",
       "75%        33.000000      26.000000      14.000000       7.500000   \n",
       "max        46.000000      32.000000      54.000000     596.400000   \n",
       "\n",
       "              humidi          cloud       pressure  \n",
       "count  181960.000000  181960.000000  181960.000000  \n",
       "mean       77.083068      41.721268    1010.229127  \n",
       "std         9.288553      23.875067       4.635714  \n",
       "min        23.000000       0.000000     988.000000  \n",
       "25%        71.000000      23.000000    1008.000000  \n",
       "50%        78.000000      38.000000    1010.000000  \n",
       "75%        83.000000      58.000000    1012.000000  \n",
       "max       100.000000     100.000000    1038.000000  "
      ]
     },
     "execution_count": 14,
     "metadata": {},
     "output_type": "execute_result"
    }
   ],
   "source": [
    "df.describe()"
   ]
  },
  {
   "attachments": {},
   "cell_type": "markdown",
   "metadata": {},
   "source": [
    " - Nhiệt độ tối đa đạt được là gần 30 độ \n",
    " - Nhiệt độ tối thiểu đạt được là 23 độ \n",
    " - Tốc độ gió trung bình là 11km/h \n",
    " "
   ]
  },
  {
   "attachments": {},
   "cell_type": "markdown",
   "metadata": {},
   "source": [
    "Tìm hiểu các cột có dữ liệu categorical"
   ]
  },
  {
   "cell_type": "code",
   "execution_count": 15,
   "metadata": {},
   "outputs": [
    {
     "data": {
      "text/html": [
       "<div>\n",
       "<style scoped>\n",
       "    .dataframe tbody tr th:only-of-type {\n",
       "        vertical-align: middle;\n",
       "    }\n",
       "\n",
       "    .dataframe tbody tr th {\n",
       "        vertical-align: top;\n",
       "    }\n",
       "\n",
       "    .dataframe thead th {\n",
       "        text-align: right;\n",
       "    }\n",
       "</style>\n",
       "<table border=\"1\" class=\"dataframe\">\n",
       "  <thead>\n",
       "    <tr style=\"text-align: right;\">\n",
       "      <th></th>\n",
       "      <th>province</th>\n",
       "      <th>wind_d</th>\n",
       "    </tr>\n",
       "  </thead>\n",
       "  <tbody>\n",
       "    <tr>\n",
       "      <th>count</th>\n",
       "      <td>181960</td>\n",
       "      <td>181960</td>\n",
       "    </tr>\n",
       "    <tr>\n",
       "      <th>unique</th>\n",
       "      <td>40</td>\n",
       "      <td>16</td>\n",
       "    </tr>\n",
       "    <tr>\n",
       "      <th>top</th>\n",
       "      <td>Bac Lieu</td>\n",
       "      <td>ESE</td>\n",
       "    </tr>\n",
       "    <tr>\n",
       "      <th>freq</th>\n",
       "      <td>4549</td>\n",
       "      <td>21526</td>\n",
       "    </tr>\n",
       "  </tbody>\n",
       "</table>\n",
       "</div>"
      ],
      "text/plain": [
       "        province  wind_d\n",
       "count     181960  181960\n",
       "unique        40      16\n",
       "top     Bac Lieu     ESE\n",
       "freq        4549   21526"
      ]
     },
     "execution_count": 15,
     "metadata": {},
     "output_type": "execute_result"
    }
   ],
   "source": [
    "cat_features = [f for f in df.columns if(df[f].dtype=='O')]\n",
    "tmp = df[cat_features].describe()\n",
    "\n",
    "tmp"
   ]
  },
  {
   "cell_type": "code",
   "execution_count": 17,
   "metadata": {},
   "outputs": [
    {
     "name": "stdout",
     "output_type": "stream",
     "text": [
      "Percent of Bac Lieu of total province: 2.5\n",
      "Percent of ESE of total total province: 11.830072543416135\n"
     ]
    }
   ],
   "source": [
    "print('Percent of Bac Lieu of total province: ' + str(tmp.loc['freq', 'province'] * 100 / tmp.loc['count', 'province']))\n",
    "print('Percent of ESE of total total province: ' + str(tmp.loc['freq', 'wind_d'] * 100 / tmp.loc['count', 'wind_d']))\n"
   ]
  }
 ],
 "metadata": {
  "kernelspec": {
   "display_name": "Python 3",
   "language": "python",
   "name": "python3"
  },
  "language_info": {
   "codemirror_mode": {
    "name": "ipython",
    "version": 3
   },
   "file_extension": ".py",
   "mimetype": "text/x-python",
   "name": "python",
   "nbconvert_exporter": "python",
   "pygments_lexer": "ipython3",
   "version": "3.11.0"
  },
  "orig_nbformat": 4
 },
 "nbformat": 4,
 "nbformat_minor": 2
}
